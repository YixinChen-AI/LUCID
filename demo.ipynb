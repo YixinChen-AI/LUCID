{
 "cells": [
  {
   "cell_type": "code",
   "execution_count": 6,
   "id": "35b3c7f0-2edc-459f-8317-519d31323b11",
   "metadata": {},
   "outputs": [
    {
     "name": "stdout",
     "output_type": "stream",
     "text": [
      "Mon Dec 18 17:14:38 2023       \n",
      "+---------------------------------------------------------------------------------------+\n",
      "| NVIDIA-SMI 535.104.05             Driver Version: 535.104.05   CUDA Version: 12.2     |\n",
      "|-----------------------------------------+----------------------+----------------------+\n",
      "| GPU  Name                 Persistence-M | Bus-Id        Disp.A | Volatile Uncorr. ECC |\n",
      "| Fan  Temp   Perf          Pwr:Usage/Cap |         Memory-Usage | GPU-Util  Compute M. |\n",
      "|                                         |                      |               MIG M. |\n",
      "|=========================================+======================+======================|\n",
      "|   0  NVIDIA A800 80GB PCIe          On  | 00000000:34:00.0 Off |                    0 |\n",
      "| N/A   60C    P0             259W / 300W |  76585MiB / 81920MiB |    100%      Default |\n",
      "|                                         |                      |             Disabled |\n",
      "+-----------------------------------------+----------------------+----------------------+\n",
      "|   1  NVIDIA A800 80GB PCIe          On  | 00000000:35:00.0 Off |                    0 |\n",
      "| N/A   53C    P0             239W / 300W |  50363MiB / 81920MiB |    100%      Default |\n",
      "|                                         |                      |             Disabled |\n",
      "+-----------------------------------------+----------------------+----------------------+\n",
      "|   2  NVIDIA A800 80GB PCIe          On  | 00000000:36:00.0 Off |                   12 |\n",
      "| N/A   61C    P0             341W / 300W |  59769MiB / 81920MiB |     45%      Default |\n",
      "|                                         |                      |             Disabled |\n",
      "+-----------------------------------------+----------------------+----------------------+\n",
      "|   3  NVIDIA A800 80GB PCIe          On  | 00000000:37:00.0 Off |                    0 |\n",
      "| N/A   70C    P0             314W / 300W |  39285MiB / 81920MiB |    100%      Default |\n",
      "|                                         |                      |             Disabled |\n",
      "+-----------------------------------------+----------------------+----------------------+\n",
      "|   4  NVIDIA A800 80GB PCIe          On  | 00000000:9A:00.0 Off |                    0 |\n",
      "| N/A   72C    P0             287W / 300W |  39289MiB / 81920MiB |    100%      Default |\n",
      "|                                         |                      |             Disabled |\n",
      "+-----------------------------------------+----------------------+----------------------+\n",
      "|   5  NVIDIA A800 80GB PCIe          On  | 00000000:9B:00.0 Off |                    0 |\n",
      "| N/A   37C    P0              45W / 300W |     30MiB / 81920MiB |      0%      Default |\n",
      "|                                         |                      |             Disabled |\n",
      "+-----------------------------------------+----------------------+----------------------+\n",
      "|   6  NVIDIA A800 80GB PCIe          On  | 00000000:9C:00.0 Off |                    0 |\n",
      "| N/A   43C    P0              70W / 300W |  12639MiB / 81920MiB |      0%      Default |\n",
      "|                                         |                      |             Disabled |\n",
      "+-----------------------------------------+----------------------+----------------------+\n",
      "|   7  NVIDIA A800 80GB PCIe          On  | 00000000:9E:00.0 Off |                    0 |\n",
      "| N/A   43C    P0              66W / 300W |  12639MiB / 81920MiB |      0%      Default |\n",
      "|                                         |                      |             Disabled |\n",
      "+-----------------------------------------+----------------------+----------------------+\n",
      "                                                                                         \n",
      "+---------------------------------------------------------------------------------------+\n",
      "| Processes:                                                                            |\n",
      "|  GPU   GI   CI        PID   Type   Process name                            GPU Memory |\n",
      "|        ID   ID                                                             Usage      |\n",
      "|=======================================================================================|\n",
      "|    0   N/A  N/A      3020      G   /usr/lib/xorg/Xorg                            4MiB |\n",
      "|    0   N/A  N/A      3770      G   /usr/lib/xorg/Xorg                            4MiB |\n",
      "|    0   N/A  N/A   2372808      C   ...en/anaconda3/envs/megact/bin/python    70932MiB |\n",
      "|    0   N/A  N/A   2634917      C   ...n/anaconda3/envs/megapet/bin/python     5572MiB |\n",
      "|    1   N/A  N/A      3020      G   /usr/lib/xorg/Xorg                            4MiB |\n",
      "|    1   N/A  N/A      3770      G   /usr/lib/xorg/Xorg                            4MiB |\n",
      "|    1   N/A  N/A   2373002      C   ...en/anaconda3/envs/megact/bin/python    50288MiB |\n",
      "|    2   N/A  N/A      3020      G   /usr/lib/xorg/Xorg                            4MiB |\n",
      "|    2   N/A  N/A      3770      G   /usr/lib/xorg/Xorg                            4MiB |\n",
      "|    2   N/A  N/A   2373460      C   ...en/anaconda3/envs/megact/bin/python    59694MiB |\n",
      "|    3   N/A  N/A      3020      G   /usr/lib/xorg/Xorg                            4MiB |\n",
      "|    3   N/A  N/A      3770      G   /usr/lib/xorg/Xorg                            4MiB |\n",
      "|    3   N/A  N/A   2648857      C   ...n/anaconda3/envs/megapet/bin/python    39250MiB |\n",
      "|    4   N/A  N/A      3020      G   /usr/lib/xorg/Xorg                            4MiB |\n",
      "|    4   N/A  N/A      3770      G   /usr/lib/xorg/Xorg                            4MiB |\n",
      "|    4   N/A  N/A   2821654      C   ...n/anaconda3/envs/megapet/bin/python    39254MiB |\n",
      "|    5   N/A  N/A      3020      G   /usr/lib/xorg/Xorg                            4MiB |\n",
      "|    5   N/A  N/A      3770      G   /usr/lib/xorg/Xorg                            4MiB |\n",
      "|    6   N/A  N/A      3020      G   /usr/lib/xorg/Xorg                            4MiB |\n",
      "|    6   N/A  N/A      3770      G   /usr/lib/xorg/Xorg                            4MiB |\n",
      "|    6   N/A  N/A   2870661      C   ...n/anaconda3/envs/megapet/bin/python    12604MiB |\n",
      "|    7   N/A  N/A      3020      G   /usr/lib/xorg/Xorg                            4MiB |\n",
      "|    7   N/A  N/A      3770      G   /usr/lib/xorg/Xorg                            4MiB |\n",
      "|    7   N/A  N/A   2633662      C   ...n/anaconda3/envs/megapet/bin/python    12604MiB |\n",
      "+---------------------------------------------------------------------------------------+\n"
     ]
    }
   ],
   "source": [
    "import sys,os\n",
    "from lucid_utils_low import lucid\n",
    "!nvidia-smi\n",
    "os.environ[\"CUDA_VISIBLE_DEVICES\"]=\"6\""
   ]
  },
  {
   "cell_type": "code",
   "execution_count": null,
   "id": "10495a7e-4fee-4e52-ad2d-180a669fb6eb",
   "metadata": {},
   "outputs": [
    {
     "name": "stdout",
     "output_type": "stream",
     "text": [
      "提供的NIfTI路径是:./testdata/autopet/CTres.nii.gz\n",
      "----------------direction check and spacing check------------------------\n",
      "----------------pre-process <LUCID Standard Protocol>------------------------\n",
      "spacing is [2.03642011 2.03642011 3.        ]\n",
      "spacing need to be: [1.5,1.5,1.5]\n",
      "direction is [ 1.  0.  0.  0. -1.  0.  0.  0.  1.]\n",
      "direction need to be:  (-1, 0, 0, 0, -1, 0, 0, 0, 1)\n",
      "the axis need to be flip?: [True, False, False]\n",
      "standard protocol nii has been write in  ./testdata/autopet/CTreslucid.nii.gz\n",
      "----------------model loading------------------------\n",
      "----------------Half-Precision inference------------------------\n",
      "----------------sliding_window_inference------------------------\n"
     ]
    },
    {
     "name": "stderr",
     "output_type": "stream",
     "text": [
      " 16%|█████████████████████████████▍                                                                                                                                                          | 20/125 [00:53<04:39,  2.66s/it]\n"
     ]
    }
   ],
   "source": [
    "lucid(\"./testdata/autopet/CTres.nii.gz\",\n",
    "      modelname=\"STUNet_large\",\n",
    "      modelweight=\"../lucid_STUNet_large_192e40.pth\",\n",
    "     output=112)"
   ]
  },
  {
   "cell_type": "code",
   "execution_count": null,
   "id": "1250c666-b925-4f29-b23e-624093dc23f3",
   "metadata": {},
   "outputs": [],
   "source": []
  }
 ],
 "metadata": {
  "kernelspec": {
   "display_name": "megapet",
   "language": "python",
   "name": "megapet"
  },
  "language_info": {
   "codemirror_mode": {
    "name": "ipython",
    "version": 3
   },
   "file_extension": ".py",
   "mimetype": "text/x-python",
   "name": "python",
   "nbconvert_exporter": "python",
   "pygments_lexer": "ipython3",
   "version": "3.10.12"
  }
 },
 "nbformat": 4,
 "nbformat_minor": 5
}
