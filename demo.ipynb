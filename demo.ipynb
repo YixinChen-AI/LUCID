{
 "cells": [
  {
   "cell_type": "code",
   "execution_count": 1,
   "id": "35b3c7f0-2edc-459f-8317-519d31323b11",
   "metadata": {},
   "outputs": [
    {
     "name": "stdout",
     "output_type": "stream",
     "text": [
      "\n",
      "\n",
      "Please cite the following paper when using nnUNet:\n",
      "\n",
      "Isensee, F., Jaeger, P.F., Kohl, S.A.A. et al. \"nnU-Net: a self-configuring method for deep learning-based biomedical image segmentation.\" Nat Methods (2020). https://doi.org/10.1038/s41592-020-01008-z\n",
      "\n",
      "\n",
      "If you have questions or suggestions, feel free to open an issue at https://github.com/MIC-DKFZ/nnUNet\n",
      "\n",
      "Mon Dec 18 19:21:51 2023       \n",
      "+---------------------------------------------------------------------------------------+\n",
      "| NVIDIA-SMI 535.104.05             Driver Version: 535.104.05   CUDA Version: 12.2     |\n",
      "|-----------------------------------------+----------------------+----------------------+\n",
      "| GPU  Name                 Persistence-M | Bus-Id        Disp.A | Volatile Uncorr. ECC |\n",
      "| Fan  Temp   Perf          Pwr:Usage/Cap |         Memory-Usage | GPU-Util  Compute M. |\n",
      "|                                         |                      |               MIG M. |\n",
      "|=========================================+======================+======================|\n",
      "|   0  NVIDIA A800 80GB PCIe          On  | 00000000:34:00.0 Off |                    0 |\n",
      "| N/A   59C    P0             246W / 300W |  76585MiB / 81920MiB |    100%      Default |\n",
      "|                                         |                      |             Disabled |\n",
      "+-----------------------------------------+----------------------+----------------------+\n",
      "|   1  NVIDIA A800 80GB PCIe          On  | 00000000:35:00.0 Off |                    0 |\n",
      "| N/A   54C    P0             235W / 300W |  50363MiB / 81920MiB |    100%      Default |\n",
      "|                                         |                      |             Disabled |\n",
      "+-----------------------------------------+----------------------+----------------------+\n",
      "|   2  NVIDIA A800 80GB PCIe          On  | 00000000:36:00.0 Off |                   12 |\n",
      "| N/A   61C    P0             189W / 300W |  59769MiB / 81920MiB |    100%      Default |\n",
      "|                                         |                      |             Disabled |\n",
      "+-----------------------------------------+----------------------+----------------------+\n",
      "|   3  NVIDIA A800 80GB PCIe          On  | 00000000:37:00.0 Off |                    0 |\n",
      "| N/A   39C    P0              63W / 300W |  39285MiB / 81920MiB |      0%      Default |\n",
      "|                                         |                      |             Disabled |\n",
      "+-----------------------------------------+----------------------+----------------------+\n",
      "|   4  NVIDIA A800 80GB PCIe          On  | 00000000:9A:00.0 Off |                    0 |\n",
      "| N/A   71C    P0             332W / 300W |  39289MiB / 81920MiB |     99%      Default |\n",
      "|                                         |                      |             Disabled |\n",
      "+-----------------------------------------+----------------------+----------------------+\n",
      "|   5  NVIDIA A800 80GB PCIe          On  | 00000000:9B:00.0 Off |                    0 |\n",
      "| N/A   37C    P0              45W / 300W |     30MiB / 81920MiB |      0%      Default |\n",
      "|                                         |                      |             Disabled |\n",
      "+-----------------------------------------+----------------------+----------------------+\n",
      "|   6  NVIDIA A800 80GB PCIe          On  | 00000000:9C:00.0 Off |                    0 |\n",
      "| N/A   39C    P0              46W / 300W |     30MiB / 81920MiB |      0%      Default |\n",
      "|                                         |                      |             Disabled |\n",
      "+-----------------------------------------+----------------------+----------------------+\n",
      "|   7  NVIDIA A800 80GB PCIe          On  | 00000000:9E:00.0 Off |                    0 |\n",
      "| N/A   42C    P0              66W / 300W |  12639MiB / 81920MiB |      0%      Default |\n",
      "|                                         |                      |             Disabled |\n",
      "+-----------------------------------------+----------------------+----------------------+\n",
      "                                                                                         \n",
      "+---------------------------------------------------------------------------------------+\n",
      "| Processes:                                                                            |\n",
      "|  GPU   GI   CI        PID   Type   Process name                            GPU Memory |\n",
      "|        ID   ID                                                             Usage      |\n",
      "|=======================================================================================|\n",
      "|    0   N/A  N/A      3020      G   /usr/lib/xorg/Xorg                            4MiB |\n",
      "|    0   N/A  N/A      3770      G   /usr/lib/xorg/Xorg                            4MiB |\n",
      "|    0   N/A  N/A   2372808      C   ...en/anaconda3/envs/megact/bin/python    70932MiB |\n",
      "|    0   N/A  N/A   2634917      C   ...n/anaconda3/envs/megapet/bin/python     5572MiB |\n",
      "|    1   N/A  N/A      3020      G   /usr/lib/xorg/Xorg                            4MiB |\n",
      "|    1   N/A  N/A      3770      G   /usr/lib/xorg/Xorg                            4MiB |\n",
      "|    1   N/A  N/A   2373002      C   ...en/anaconda3/envs/megact/bin/python    50288MiB |\n",
      "|    2   N/A  N/A      3020      G   /usr/lib/xorg/Xorg                            4MiB |\n",
      "|    2   N/A  N/A      3770      G   /usr/lib/xorg/Xorg                            4MiB |\n",
      "|    2   N/A  N/A   2373460      C   ...en/anaconda3/envs/megact/bin/python    59694MiB |\n",
      "|    3   N/A  N/A      3020      G   /usr/lib/xorg/Xorg                            4MiB |\n",
      "|    3   N/A  N/A      3770      G   /usr/lib/xorg/Xorg                            4MiB |\n",
      "|    3   N/A  N/A   2648857      C   ...n/anaconda3/envs/megapet/bin/python    39250MiB |\n",
      "|    4   N/A  N/A      3020      G   /usr/lib/xorg/Xorg                            4MiB |\n",
      "|    4   N/A  N/A      3770      G   /usr/lib/xorg/Xorg                            4MiB |\n",
      "|    4   N/A  N/A   2821654      C   ...n/anaconda3/envs/megapet/bin/python    39254MiB |\n",
      "|    5   N/A  N/A      3020      G   /usr/lib/xorg/Xorg                            4MiB |\n",
      "|    5   N/A  N/A      3770      G   /usr/lib/xorg/Xorg                            4MiB |\n",
      "|    6   N/A  N/A      3020      G   /usr/lib/xorg/Xorg                            4MiB |\n",
      "|    6   N/A  N/A      3770      G   /usr/lib/xorg/Xorg                            4MiB |\n",
      "|    7   N/A  N/A      3020      G   /usr/lib/xorg/Xorg                            4MiB |\n",
      "|    7   N/A  N/A      3770      G   /usr/lib/xorg/Xorg                            4MiB |\n",
      "|    7   N/A  N/A   2633662      C   ...n/anaconda3/envs/megapet/bin/python    12604MiB |\n",
      "+---------------------------------------------------------------------------------------+\n"
     ]
    }
   ],
   "source": [
    "import sys,os\n",
    "from lucid_utils_low import lucid\n",
    "!nvidia-smi\n",
    "os.environ[\"CUDA_VISIBLE_DEVICES\"]=\"6\""
   ]
  },
  {
   "cell_type": "code",
   "execution_count": 3,
   "id": "10495a7e-4fee-4e52-ad2d-180a669fb6eb",
   "metadata": {},
   "outputs": [
    {
     "name": "stdout",
     "output_type": "stream",
     "text": [
      "提供的NIfTI路径是:./testdata/totalseg/ct_sitk.nii.gz\n",
      "----------------direction check and spacing check------------------------\n",
      "----------------pre-process <LUCID Standard Protocol>------------------------\n",
      "spacing check: OK!!\n",
      "direction check: OK!!\n",
      "----------------model loading------------------------\n",
      "----------------Half-Precision inference------------------------\n",
      "----------------sliding_window_inference------------------------\n"
     ]
    },
    {
     "name": "stderr",
     "output_type": "stream",
     "text": [
      "100%|███████████████████████████████████████████████████████████████████████████████████████████████████████████████████████████████████████████████████████████████████████████████████████████| 6/6 [00:15<00:00,  2.54s/it]\n"
     ]
    },
    {
     "name": "stdout",
     "output_type": "stream",
     "text": [
      "----------------post-process------------------------\n",
      "----------------file saving------------------------\n",
      "create combined nii.gz. \n"
     ]
    }
   ],
   "source": [
    "lucid(\"./testdata/totalseg/ct_sitk.nii.gz\",\n",
    "      modelname=\"STUNet_large\",\n",
    "      modelweight=\"../lucid_STUNet_large_192e40.pth\",\n",
    "     output=112)"
   ]
  },
  {
   "cell_type": "code",
   "execution_count": null,
   "id": "1250c666-b925-4f29-b23e-624093dc23f3",
   "metadata": {},
   "outputs": [],
   "source": []
  }
 ],
 "metadata": {
  "kernelspec": {
   "display_name": "megapet",
   "language": "python",
   "name": "megapet"
  },
  "language_info": {
   "codemirror_mode": {
    "name": "ipython",
    "version": 3
   },
   "file_extension": ".py",
   "mimetype": "text/x-python",
   "name": "python",
   "nbconvert_exporter": "python",
   "pygments_lexer": "ipython3",
   "version": "3.10.12"
  }
 },
 "nbformat": 4,
 "nbformat_minor": 5
}
