{
 "cells": [
  {
   "cell_type": "code",
   "execution_count": 1,
   "id": "35b3c7f0-2edc-459f-8317-519d31323b11",
   "metadata": {},
   "outputs": [
    {
     "name": "stdout",
     "output_type": "stream",
     "text": [
      "\n",
      "\n",
      "Please cite the following paper when using nnUNet:\n",
      "\n",
      "Isensee, F., Jaeger, P.F., Kohl, S.A.A. et al. \"nnU-Net: a self-configuring method for deep learning-based biomedical image segmentation.\" Nat Methods (2020). https://doi.org/10.1038/s41592-020-01008-z\n",
      "\n",
      "\n",
      "If you have questions or suggestions, feel free to open an issue at https://github.com/MIC-DKFZ/nnUNet\n",
      "\n",
      "Mon Dec 18 15:13:00 2023       \n",
      "+---------------------------------------------------------------------------------------+\n",
      "| NVIDIA-SMI 535.104.05             Driver Version: 535.104.05   CUDA Version: 12.2     |\n",
      "|-----------------------------------------+----------------------+----------------------+\n",
      "| GPU  Name                 Persistence-M | Bus-Id        Disp.A | Volatile Uncorr. ECC |\n",
      "| Fan  Temp   Perf          Pwr:Usage/Cap |         Memory-Usage | GPU-Util  Compute M. |\n",
      "|                                         |                      |               MIG M. |\n",
      "|=========================================+======================+======================|\n",
      "|   0  NVIDIA A800 80GB PCIe          On  | 00000000:34:00.0 Off |                    0 |\n",
      "| N/A   57C    P0              81W / 300W |  76585MiB / 81920MiB |      0%      Default |\n",
      "|                                         |                      |             Disabled |\n",
      "+-----------------------------------------+----------------------+----------------------+\n",
      "|   1  NVIDIA A800 80GB PCIe          On  | 00000000:35:00.0 Off |                    0 |\n",
      "| N/A   49C    P0             184W / 300W |  50363MiB / 81920MiB |    100%      Default |\n",
      "|                                         |                      |             Disabled |\n",
      "+-----------------------------------------+----------------------+----------------------+\n",
      "|   2  NVIDIA A800 80GB PCIe          On  | 00000000:36:00.0 Off |                   12 |\n",
      "| N/A   53C    P0             243W / 300W |  59769MiB / 81920MiB |    100%      Default |\n",
      "|                                         |                      |             Disabled |\n",
      "+-----------------------------------------+----------------------+----------------------+\n",
      "|   3  NVIDIA A800 80GB PCIe          On  | 00000000:37:00.0 Off |                    0 |\n",
      "| N/A   74C    P0             318W / 300W |  39285MiB / 81920MiB |     98%      Default |\n",
      "|                                         |                      |             Disabled |\n",
      "+-----------------------------------------+----------------------+----------------------+\n",
      "|   4  NVIDIA A800 80GB PCIe          On  | 00000000:9A:00.0 Off |                    0 |\n",
      "| N/A   74C    P0             344W / 300W |  39289MiB / 81920MiB |    100%      Default |\n",
      "|                                         |                      |             Disabled |\n",
      "+-----------------------------------------+----------------------+----------------------+\n",
      "|   5  NVIDIA A800 80GB PCIe          On  | 00000000:9B:00.0 Off |                    0 |\n",
      "| N/A   33C    P0              43W / 300W |     30MiB / 81920MiB |      0%      Default |\n",
      "|                                         |                      |             Disabled |\n",
      "+-----------------------------------------+----------------------+----------------------+\n",
      "|   6  NVIDIA A800 80GB PCIe          On  | 00000000:9C:00.0 Off |                    0 |\n",
      "| N/A   38C    P0              47W / 300W |     30MiB / 81920MiB |      0%      Default |\n",
      "|                                         |                      |             Disabled |\n",
      "+-----------------------------------------+----------------------+----------------------+\n",
      "|   7  NVIDIA A800 80GB PCIe          On  | 00000000:9E:00.0 Off |                    0 |\n",
      "| N/A   39C    P0              66W / 300W |  12639MiB / 81920MiB |      0%      Default |\n",
      "|                                         |                      |             Disabled |\n",
      "+-----------------------------------------+----------------------+----------------------+\n",
      "                                                                                         \n",
      "+---------------------------------------------------------------------------------------+\n",
      "| Processes:                                                                            |\n",
      "|  GPU   GI   CI        PID   Type   Process name                            GPU Memory |\n",
      "|        ID   ID                                                             Usage      |\n",
      "|=======================================================================================|\n",
      "|    0   N/A  N/A      3020      G   /usr/lib/xorg/Xorg                            4MiB |\n",
      "|    0   N/A  N/A      3770      G   /usr/lib/xorg/Xorg                            4MiB |\n",
      "|    0   N/A  N/A   2372808      C   ...en/anaconda3/envs/megact/bin/python    70932MiB |\n",
      "|    0   N/A  N/A   2634917      C   ...n/anaconda3/envs/megapet/bin/python     5572MiB |\n",
      "|    1   N/A  N/A      3020      G   /usr/lib/xorg/Xorg                            4MiB |\n",
      "|    1   N/A  N/A      3770      G   /usr/lib/xorg/Xorg                            4MiB |\n",
      "|    1   N/A  N/A   2373002      C   ...en/anaconda3/envs/megact/bin/python    50288MiB |\n",
      "|    2   N/A  N/A      3020      G   /usr/lib/xorg/Xorg                            4MiB |\n",
      "|    2   N/A  N/A      3770      G   /usr/lib/xorg/Xorg                            4MiB |\n",
      "|    2   N/A  N/A   2373460      C   ...en/anaconda3/envs/megact/bin/python    59694MiB |\n",
      "|    3   N/A  N/A      3020      G   /usr/lib/xorg/Xorg                            4MiB |\n",
      "|    3   N/A  N/A      3770      G   /usr/lib/xorg/Xorg                            4MiB |\n",
      "|    3   N/A  N/A   2648857      C   ...n/anaconda3/envs/megapet/bin/python    39250MiB |\n",
      "|    4   N/A  N/A      3020      G   /usr/lib/xorg/Xorg                            4MiB |\n",
      "|    4   N/A  N/A      3770      G   /usr/lib/xorg/Xorg                            4MiB |\n",
      "|    4   N/A  N/A   2821654      C   ...n/anaconda3/envs/megapet/bin/python    39254MiB |\n",
      "|    5   N/A  N/A      3020      G   /usr/lib/xorg/Xorg                            4MiB |\n",
      "|    5   N/A  N/A      3770      G   /usr/lib/xorg/Xorg                            4MiB |\n",
      "|    6   N/A  N/A      3020      G   /usr/lib/xorg/Xorg                            4MiB |\n",
      "|    6   N/A  N/A      3770      G   /usr/lib/xorg/Xorg                            4MiB |\n",
      "|    7   N/A  N/A      3020      G   /usr/lib/xorg/Xorg                            4MiB |\n",
      "|    7   N/A  N/A      3770      G   /usr/lib/xorg/Xorg                            4MiB |\n",
      "|    7   N/A  N/A   2633662      C   ...n/anaconda3/envs/megapet/bin/python    12604MiB |\n",
      "+---------------------------------------------------------------------------------------+\n"
     ]
    }
   ],
   "source": [
    "import sys,os\n",
    "from lucid_utils_low import lucid\n",
    "!nvidia-smi\n",
    "os.environ[\"CUDA_VISIBLE_DEVICES\"]=\"6\""
   ]
  },
  {
   "cell_type": "code",
   "execution_count": 5,
   "id": "10495a7e-4fee-4e52-ad2d-180a669fb6eb",
   "metadata": {},
   "outputs": [
    {
     "name": "stdout",
     "output_type": "stream",
     "text": [
      "提供的NIfTI路径是:./testdata/autopet/CTres.nii.gz\n",
      "----------------direction check and spacing check------------------------\n",
      "----------------pre-process <LUCID Standard Protocol>------------------------\n",
      "spacing is [2.03642011 2.03642011 3.        ]\n",
      "spacing need to be: [1.5,1.5,1.5]\n",
      "direction is [ 1.  0.  0.  0. -1.  0.  0.  0.  1.]\n",
      "direction need to be:  (-1, 0, 0, 0, -1, 0, 0, 0, 1)\n",
      "the axis need to be flip?: [True, False, False]\n",
      "standard protocol nii has been write in  ./testdata/autopet/CTreslucid.nii.gz\n",
      "----------------model loading------------------------\n",
      "----------------Half-Precision inference------------------------\n",
      "----------------sliding_window_inference------------------------\n"
     ]
    },
    {
     "name": "stderr",
     "output_type": "stream",
     "text": [
      "100%|███████████████████████████████████████████████████████████████████████████████████████████████████████████████████████████████████████████████████████████████████████████████████████| 125/125 [05:26<00:00,  2.61s/it]\n"
     ]
    },
    {
     "name": "stdout",
     "output_type": "stream",
     "text": [
      "----------------post-process------------------------\n",
      "create combined nii.gz. \n"
     ]
    }
   ],
   "source": [
    "lucid(\"./testdata/autopet/CTres.nii.gz\",\n",
    "      modelname=\"STUNet_large\",\n",
    "      modelweight=\"./model_weight/lucid_STUNet_large_192e40.pth\",\n",
    "     output=112)"
   ]
  },
  {
   "cell_type": "code",
   "execution_count": null,
   "id": "1250c666-b925-4f29-b23e-624093dc23f3",
   "metadata": {},
   "outputs": [],
   "source": []
  }
 ],
 "metadata": {
  "kernelspec": {
   "display_name": "megapet",
   "language": "python",
   "name": "megapet"
  },
  "language_info": {
   "codemirror_mode": {
    "name": "ipython",
    "version": 3
   },
   "file_extension": ".py",
   "mimetype": "text/x-python",
   "name": "python",
   "nbconvert_exporter": "python",
   "pygments_lexer": "ipython3",
   "version": "3.10.12"
  }
 },
 "nbformat": 4,
 "nbformat_minor": 5
}
